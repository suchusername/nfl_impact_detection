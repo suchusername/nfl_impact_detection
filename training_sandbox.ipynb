{
 "cells": [
  {
   "cell_type": "code",
   "execution_count": 1,
   "metadata": {},
   "outputs": [],
   "source": [
    "import os, sys\n",
    "import yaml\n",
    "import json\n",
    "import numpy as np\n",
    "import secrets  # for generating random hex code\n",
    "import importlib.util  # for importing a model\n",
    "\n",
    "import tensorflow as tf\n",
    "from data_processing.Processor import load_detection_ds\n",
    "from models.fcos.interpreter import Interpreter\n",
    "\n",
    "CONFIG_PATH = \"training/detector_config.yaml\""
   ]
  },
  {
   "cell_type": "code",
   "execution_count": 2,
   "metadata": {},
   "outputs": [],
   "source": [
    "def numpy_json_converter(obj):\n",
    "    \"\"\"\n",
    "    Allows to dump numpy arrays as json.\n",
    "    \"\"\"\n",
    "    if isinstance(obj, np.integer):\n",
    "        return int(obj)\n",
    "    elif isinstance(obj, np.floating):\n",
    "        return float(obj)\n",
    "    elif isinstance(obj, np.ndarray):\n",
    "        return obj.tolist()\n",
    "    elif isinstance(obj, datetime.datetime):\n",
    "        return obj.__str__()"
   ]
  },
  {
   "cell_type": "code",
   "execution_count": 3,
   "metadata": {},
   "outputs": [
    {
     "data": {
      "text/plain": [
       "{'model': {'name': 'fcos',\n",
       "  'build': 'build',\n",
       "  'args': {'input_h': 300,\n",
       "   'input_w': 400,\n",
       "   'l2_reg': 1e-05,\n",
       "   'dropout': 0,\n",
       "   'strides': [8],\n",
       "   'regression_weight': 0.05}},\n",
       " 'data': {'train': 'training/train_dataset.yaml',\n",
       "  'val': 'training/val_dataset.yaml'},\n",
       " 'optimizer': {'name': 'Adam', 'lr': 0.001},\n",
       " 'callbacks': {'lr_scheduler': {'factor': 0.5, 'patience': 10, 'cooldown': 5},\n",
       "  'early_stop': {'patience': 25}},\n",
       " 'epochs': 200,\n",
       " 'batch_size': 4}"
      ]
     },
     "execution_count": 3,
     "metadata": {},
     "output_type": "execute_result"
    }
   ],
   "source": [
    "with open(CONFIG_PATH, \"r\") as fd:\n",
    "    config = yaml.safe_load(fd)\n",
    "\n",
    "config"
   ]
  },
  {
   "cell_type": "code",
   "execution_count": 4,
   "metadata": {},
   "outputs": [],
   "source": [
    "# Keyword arguments for building a model\n",
    "kwargs = config[\"model\"][\"args\"]\n",
    "\n",
    "# importing\n",
    "module_path = os.path.join(\n",
    "    \"models\", config[\"model\"][\"name\"], config[\"model\"][\"build\"] + \".py\"\n",
    ")\n",
    "spec = importlib.util.spec_from_file_location(config[\"model\"][\"build\"], module_path)\n",
    "build = importlib.util.module_from_spec(spec)\n",
    "spec.loader.exec_module(build)"
   ]
  },
  {
   "cell_type": "code",
   "execution_count": 5,
   "metadata": {},
   "outputs": [],
   "source": [
    "# preprocessing\n",
    "train_data_path = config[\"data\"][\"train\"]\n",
    "val_data_path = config[\"data\"][\"val\"]\n",
    "\n",
    "train_raw_ds = load_detection_ds(train_data_path)\n",
    "val_raw_ds = load_detection_ds(val_data_path)\n",
    "\n",
    "processor = build.build_processor(**kwargs)\n",
    "train_processed_ds = (\n",
    "    train_raw_ds.map(processor).batch(config[\"batch_size\"]).prefetch(4)\n",
    ")\n",
    "val_processed_ds = val_raw_ds.map(processor).batch(config[\"batch_size\"]).prefetch(4)"
   ]
  },
  {
   "cell_type": "code",
   "execution_count": 6,
   "metadata": {},
   "outputs": [],
   "source": [
    "# building a model\n",
    "model = build.build_model(**kwargs)\n",
    "loss = build.build_loss(**kwargs)\n",
    "metrics = build.build_metrics(**kwargs)\n",
    "\n",
    "# compiling\n",
    "optimizer = getattr(tf.keras.optimizers, config[\"optimizer\"][\"name\"])\n",
    "model.compile(\n",
    "    optimizer=optimizer(config[\"optimizer\"][\"lr\"]), loss=loss, metrics=metrics,\n",
    ")"
   ]
  },
  {
   "cell_type": "code",
   "execution_count": 7,
   "metadata": {},
   "outputs": [
    {
     "name": "stdout",
     "output_type": "stream",
     "text": [
      "models/fcos/snapshots/3e7a78331570bc3307935976e806ea78\n"
     ]
    }
   ],
   "source": [
    "# generating model code\n",
    "model_code = secrets.token_hex(16)\n",
    "\n",
    "# callbacks\n",
    "model_save_path = os.path.join(\n",
    "    \"models\", config[\"model\"][\"name\"], \"snapshots\", model_code\n",
    ")\n",
    "os.makedirs(model_save_path, exist_ok=True)\n",
    "print(model_save_path)"
   ]
  },
  {
   "cell_type": "code",
   "execution_count": 8,
   "metadata": {},
   "outputs": [],
   "source": [
    "lr_scheduler = tf.keras.callbacks.ReduceLROnPlateau(\n",
    "    monitor=\"loss\",\n",
    "    factor=config[\"callbacks\"][\"lr_scheduler\"][\"factor\"],\n",
    "    patience=config[\"callbacks\"][\"lr_scheduler\"][\"patience\"],\n",
    "    cooldown=config[\"callbacks\"][\"lr_scheduler\"][\"cooldown\"],\n",
    "    min_lr=1e-7,\n",
    "    verbose=True,\n",
    ")\n",
    "\n",
    "early_stop = tf.keras.callbacks.EarlyStopping(\n",
    "    monitor=\"val_loss\", patience=config[\"callbacks\"][\"early_stop\"][\"patience\"]\n",
    ")\n",
    "\n",
    "checkpoint = tf.keras.callbacks.ModelCheckpoint(\n",
    "    os.path.join(model_save_path, \"weights.hdf5\"),\n",
    "    monitor=\"val_loss\",\n",
    "    verbose=1,\n",
    "    save_best_only=True,\n",
    "    mode=\"min\",\n",
    ")\n",
    "\n",
    "callbacks = [lr_scheduler, early_stop, checkpoint]"
   ]
  },
  {
   "cell_type": "code",
   "execution_count": 9,
   "metadata": {},
   "outputs": [
    {
     "data": {
      "text/plain": [
       "'2.3.1'"
      ]
     },
     "execution_count": 9,
     "metadata": {},
     "output_type": "execute_result"
    }
   ],
   "source": [
    "tf.__version__"
   ]
  },
  {
   "cell_type": "code",
   "execution_count": 11,
   "metadata": {},
   "outputs": [
    {
     "name": "stdout",
     "output_type": "stream",
     "text": [
      "Epoch 1/5\n",
      "2238/2238 [==============================] - ETA: 0s - loss: 0.0312 - fcos_detection_loss: 0.0056 - fcos_regression_loss: 0.5121\n",
      "Epoch 00001: val_loss improved from inf to 0.02493, saving model to models/fcos/snapshots/3e7a78331570bc3307935976e806ea78/weights.hdf5\n",
      "2238/2238 [==============================] - 769s 344ms/step - loss: 0.0312 - fcos_detection_loss: 0.0056 - fcos_regression_loss: 0.5121 - val_loss: 0.0249 - val_fcos_detection_loss: 0.0047 - val_fcos_regression_loss: 0.4055\n",
      "Epoch 2/5\n",
      "2238/2238 [==============================] - ETA: 0s - loss: 0.0230 - fcos_detection_loss: 0.0044 - fcos_regression_loss: 0.3723\n",
      "Epoch 00002: val_loss improved from 0.02493 to 0.02076, saving model to models/fcos/snapshots/3e7a78331570bc3307935976e806ea78/weights.hdf5\n",
      "2238/2238 [==============================] - 696s 311ms/step - loss: 0.0230 - fcos_detection_loss: 0.0044 - fcos_regression_loss: 0.3723 - val_loss: 0.0208 - val_fcos_detection_loss: 0.0041 - val_fcos_regression_loss: 0.3335\n",
      "Epoch 3/5\n",
      "2238/2238 [==============================] - ETA: 0s - loss: 0.0204 - fcos_detection_loss: 0.0039 - fcos_regression_loss: 0.3290\n",
      "Epoch 00003: val_loss improved from 0.02076 to 0.01894, saving model to models/fcos/snapshots/3e7a78331570bc3307935976e806ea78/weights.hdf5\n",
      "2238/2238 [==============================] - 692s 309ms/step - loss: 0.0204 - fcos_detection_loss: 0.0039 - fcos_regression_loss: 0.3290 - val_loss: 0.0189 - val_fcos_detection_loss: 0.0038 - val_fcos_regression_loss: 0.3028\n",
      "Epoch 4/5\n",
      "2238/2238 [==============================] - ETA: 0s - loss: 0.0191 - fcos_detection_loss: 0.0037 - fcos_regression_loss: 0.3073\n",
      "Epoch 00004: val_loss improved from 0.01894 to 0.01805, saving model to models/fcos/snapshots/3e7a78331570bc3307935976e806ea78/weights.hdf5\n",
      "2238/2238 [==============================] - 690s 308ms/step - loss: 0.0191 - fcos_detection_loss: 0.0037 - fcos_regression_loss: 0.3073 - val_loss: 0.0181 - val_fcos_detection_loss: 0.0036 - val_fcos_regression_loss: 0.2881\n",
      "Epoch 5/5\n",
      "2238/2238 [==============================] - ETA: 0s - loss: 0.0182 - fcos_detection_loss: 0.0036 - fcos_regression_loss: 0.2923\n",
      "Epoch 00005: val_loss improved from 0.01805 to 0.01740, saving model to models/fcos/snapshots/3e7a78331570bc3307935976e806ea78/weights.hdf5\n",
      "2238/2238 [==============================] - 700s 313ms/step - loss: 0.0182 - fcos_detection_loss: 0.0036 - fcos_regression_loss: 0.2923 - val_loss: 0.0174 - val_fcos_detection_loss: 0.0035 - val_fcos_regression_loss: 0.2776\n"
     ]
    }
   ],
   "source": [
    "# training\n",
    "history = model.fit(\n",
    "    train_processed_ds,\n",
    "    epochs=5, #config[\"epochs\"],\n",
    "    validation_data=val_processed_ds,\n",
    "    callbacks=callbacks\n",
    ")\n",
    "\n",
    "# saving history\n",
    "with open(os.path.join(model_save_path, \"history.json\"), \"w\") as fd:\n",
    "    history.history[\"train_config\"] = config\n",
    "    json.dump(history.history, fd, indent=4, default=numpy_json_converter)"
   ]
  },
  {
   "cell_type": "code",
   "execution_count": null,
   "metadata": {},
   "outputs": [],
   "source": []
  }
 ],
 "metadata": {
  "kernelspec": {
   "display_name": "Python 3",
   "language": "python",
   "name": "python3"
  },
  "language_info": {
   "codemirror_mode": {
    "name": "ipython",
    "version": 3
   },
   "file_extension": ".py",
   "mimetype": "text/x-python",
   "name": "python",
   "nbconvert_exporter": "python",
   "pygments_lexer": "ipython3",
   "version": "3.7.6"
  }
 },
 "nbformat": 4,
 "nbformat_minor": 4
}
