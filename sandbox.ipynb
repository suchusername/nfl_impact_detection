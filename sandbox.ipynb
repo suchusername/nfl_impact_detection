{
 "cells": [
  {
   "cell_type": "markdown",
   "metadata": {},
   "source": [
    "# 1. Imports"
   ]
  },
  {
   "cell_type": "code",
   "execution_count": null,
   "metadata": {},
   "outputs": [],
   "source": [
    "import os\n",
    "import tensorflow as tf\n",
    "import numpy as np\n",
    "from PIL import Image\n",
    "\n",
    "np.set_printoptions(suppress=True, precision=2)\n",
    "\n",
    "os.chdir(\"/Users/apple/Desktop/MIPT/Machine learning/nfl_impact_detection\")"
   ]
  },
  {
   "cell_type": "code",
   "execution_count": null,
   "metadata": {},
   "outputs": [],
   "source": [
    "from data_processing.Processor import load_detection_ds, Processor\n",
    "from data_processing import image, bboxes\n",
    "from utils.draw_bboxes import draw_bboxes\n",
    "\n",
    "from models.fcos import build"
   ]
  },
  {
   "cell_type": "markdown",
   "metadata": {},
   "source": [
    "Следующая ячейка перегоняет разметку из csv-файла в формат GMC. Ее достаточно запустить один раз в жизни. "
   ]
  },
  {
   "cell_type": "code",
   "execution_count": null,
   "metadata": {},
   "outputs": [],
   "source": [
    "if False:\n",
    "    from data_processing.io import csv_to_json_markup\n",
    "\n",
    "    csv_to_json_markup(\"data/image_labels.csv\", \"data/images_markup\")"
   ]
  },
  {
   "cell_type": "markdown",
   "metadata": {},
   "source": [
    "# 2. Preprocessing\n",
    "\n",
    "Функция `load_detection_ds()` строит `tf.data.Dataset`."
   ]
  },
  {
   "cell_type": "code",
   "execution_count": null,
   "metadata": {},
   "outputs": [],
   "source": [
    "raw_ds = load_detection_ds(\"training/temp_dataset.yaml\")\n",
    "\n",
    "for sample in raw_ds:\n",
    "    break"
   ]
  },
  {
   "cell_type": "markdown",
   "metadata": {},
   "source": [
    "Объект `Processor` - это аналог нашего `BallfishTFwrapper`. При его инициализации указываешь список преобразований. Про аргумент `feature_keys` пока не думай..."
   ]
  },
  {
   "cell_type": "code",
   "execution_count": null,
   "metadata": {},
   "outputs": [],
   "source": [
    "processor = Processor([\n",
    "    image.LoadImage(),\n",
    "    bboxes.LoadBboxes(n_bboxes=90),\n",
    "    image.ResizeKeepRatio(300,400),\n",
    "    image.Normalize(),\n",
    "    bboxes.BuildFCOSTarget((300,400), [8])\n",
    "], feature_keys=None)\n",
    "\n",
    "processed_ds = raw_ds.map(processor)"
   ]
  },
  {
   "cell_type": "code",
   "execution_count": null,
   "metadata": {},
   "outputs": [],
   "source": [
    "for sample in processed_ds.skip(5):\n",
    "    break\n",
    "    \n",
    "sample.keys()"
   ]
  },
  {
   "cell_type": "code",
   "execution_count": null,
   "metadata": {},
   "outputs": [],
   "source": [
    "img = draw_bboxes((sample[\"img\"].numpy() * 255).astype(np.uint8), sample[\"bboxes\"].numpy(), show_desc=False)\n",
    "Image.fromarray(img)"
   ]
  },
  {
   "cell_type": "code",
   "execution_count": null,
   "metadata": {},
   "outputs": [],
   "source": [
    "print(sample[\"target0\"].numpy().shape)\n",
    "Image.fromarray((sample[\"target0\"].numpy()[:,:,0] * 255).astype(np.uint8)).resize((400,300))"
   ]
  },
  {
   "cell_type": "markdown",
   "metadata": {},
   "source": [
    "# 3. Model"
   ]
  },
  {
   "cell_type": "code",
   "execution_count": null,
   "metadata": {},
   "outputs": [],
   "source": [
    "model = build.build_model()"
   ]
  },
  {
   "cell_type": "code",
   "execution_count": null,
   "metadata": {},
   "outputs": [],
   "source": [
    "model.summary()"
   ]
  },
  {
   "cell_type": "code",
   "execution_count": null,
   "metadata": {},
   "outputs": [],
   "source": [
    "tf.keras.utils.plot_model(\n",
    "    model, to_file='model.png', show_shapes=True, show_layer_names=False, expand_nested=False\n",
    ")"
   ]
  }
 ],
 "metadata": {
  "kernelspec": {
   "display_name": "Python 3",
   "language": "python",
   "name": "python3"
  },
  "language_info": {
   "codemirror_mode": {
    "name": "ipython",
    "version": 3
   },
   "file_extension": ".py",
   "mimetype": "text/x-python",
   "name": "python",
   "nbconvert_exporter": "python",
   "pygments_lexer": "ipython3",
   "version": "3.8.5"
  }
 },
 "nbformat": 4,
 "nbformat_minor": 4
}
