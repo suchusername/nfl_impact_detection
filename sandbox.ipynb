{
 "cells": [
  {
   "cell_type": "markdown",
   "metadata": {},
   "source": [
    "# 1. Imports"
   ]
  },
  {
   "cell_type": "code",
   "execution_count": null,
   "metadata": {},
   "outputs": [],
   "source": [
    "import os\n",
    "import numpy as np\n",
    "from PIL import Image\n",
    "\n",
    "np.set_printoptions(suppress=True, precision=2)\n",
    "\n",
    "os.chdir(\"/Users/apple/Desktop/MIPT/Machine learning/nfl_impact_detection\")"
   ]
  },
  {
   "cell_type": "code",
   "execution_count": null,
   "metadata": {},
   "outputs": [],
   "source": [
    "from data_processing.Processor import load_detection_ds\n",
    "from data_processing.Processor import Processor\n",
    "from data_processing import image, bboxes\n",
    "from utils.draw_bboxes import draw_bboxes"
   ]
  },
  {
   "cell_type": "markdown",
   "metadata": {},
   "source": [
    "Следующая ячейка перегоняет разметку из csv-файла в формат GMC. Ее достаточно запустить один раз в жизни. "
   ]
  },
  {
   "cell_type": "code",
   "execution_count": null,
   "metadata": {},
   "outputs": [],
   "source": [
    "if False:\n",
    "    from data_processing.io import csv_to_json_markup\n",
    "\n",
    "    csv_to_json_markup(\"data/image_labels.csv\", \"data/images_markup\")"
   ]
  },
  {
   "cell_type": "markdown",
   "metadata": {},
   "source": [
    "# 2. Preprocessing\n",
    "\n",
    "Функция `load_detection_ds()` строит `tf.data.Dataset`."
   ]
  },
  {
   "cell_type": "code",
   "execution_count": null,
   "metadata": {},
   "outputs": [],
   "source": [
    "raw_ds = load_detection_ds(\"data/images\", \"data/images_markup\")\n",
    "\n",
    "for sample in raw_ds:\n",
    "    print(sample)\n",
    "    break"
   ]
  },
  {
   "cell_type": "markdown",
   "metadata": {},
   "source": [
    "Объект `Processor` - это аналог нашего `BallfishTFwrapper`. При его инициализации указываешь список преобразований. Про аргумент `feature_keys` пока не думай..."
   ]
  },
  {
   "cell_type": "code",
   "execution_count": null,
   "metadata": {},
   "outputs": [],
   "source": [
    "processor = Processor([\n",
    "    image.LoadImage(),\n",
    "    bboxes.LoadBboxes(n_bboxes=90),\n",
    "], feature_keys=None)\n",
    "\n",
    "processed_ds = raw_ds.map(processor)"
   ]
  },
  {
   "cell_type": "code",
   "execution_count": null,
   "metadata": {},
   "outputs": [],
   "source": [
    "for sample in processed_ds.skip(20):\n",
    "    break\n",
    "sample.keys()"
   ]
  },
  {
   "cell_type": "code",
   "execution_count": null,
   "metadata": {},
   "outputs": [],
   "source": [
    "img = draw_bboxes(sample[\"img\"].numpy().astype(np.uint8), sample[\"bboxes\"].numpy(), show_desc=False)\n",
    "Image.fromarray(img)"
   ]
  }
 ],
 "metadata": {
  "kernelspec": {
   "display_name": "Python 3",
   "language": "python",
   "name": "python3"
  },
  "language_info": {
   "codemirror_mode": {
    "name": "ipython",
    "version": 3
   },
   "file_extension": ".py",
   "mimetype": "text/x-python",
   "name": "python",
   "nbconvert_exporter": "python",
   "pygments_lexer": "ipython3",
   "version": "3.8.5"
  }
 },
 "nbformat": 4,
 "nbformat_minor": 4
}
