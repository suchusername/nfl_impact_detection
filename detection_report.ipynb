{
 "cells": [
  {
   "cell_type": "code",
   "execution_count": 1,
   "metadata": {},
   "outputs": [],
   "source": [
    "import os\n",
    "import tensorflow as tf\n",
    "import numpy as np\n",
    "from PIL import Image\n",
    "\n",
    "np.set_printoptions(suppress=True, precision=2)"
   ]
  },
  {
   "cell_type": "code",
   "execution_count": 2,
   "metadata": {},
   "outputs": [],
   "source": [
    "from data_processing.Processor import load_detection_ds, Processor\n",
    "from matplotlib import cm as mp_cm\n",
    "import cv2\n",
    "import tqdm"
   ]
  },
  {
   "cell_type": "code",
   "execution_count": 3,
   "metadata": {},
   "outputs": [],
   "source": [
    "from data_processing import image, bboxes\n",
    "from utils.draw_bboxes import draw_bboxes\n",
    "from models.fcos import build\n",
    "from data_processing.io import load_gmc"
   ]
  },
  {
   "cell_type": "code",
   "execution_count": 4,
   "metadata": {},
   "outputs": [],
   "source": [
    "raw_ds = load_detection_ds(\"training/temp_dataset.yaml\")\n",
    "\n",
    "for sample in raw_ds:\n",
    "    break"
   ]
  },
  {
   "cell_type": "code",
   "execution_count": 5,
   "metadata": {},
   "outputs": [],
   "source": [
    "processor = Processor([\n",
    "    image.LoadImage(),\n",
    "    bboxes.LoadBboxes(n_bboxes=90),\n",
    "    image.ResizeKeepRatio(300,400),\n",
    "    image.Normalize(),\n",
    "    bboxes.BuildFCOSTarget((300,400), [8])\n",
    "], feature_keys=None)\n",
    "\n",
    "processed_ds = raw_ds.map(processor)"
   ]
  },
  {
   "cell_type": "code",
   "execution_count": 6,
   "metadata": {},
   "outputs": [],
   "source": [
    "model = build.build_model()"
   ]
  },
  {
   "cell_type": "markdown",
   "metadata": {},
   "source": [
    "# Detection Report"
   ]
  },
  {
   "cell_type": "code",
   "execution_count": 7,
   "metadata": {},
   "outputs": [],
   "source": [
    "model.load_weights('models/fcos/snapshots/3e7a78331570bc3307935976e806ea78/weights.hdf5')"
   ]
  },
  {
   "cell_type": "code",
   "execution_count": 8,
   "metadata": {},
   "outputs": [],
   "source": [
    "from models.fcos.interpreter import Interpreter\n",
    "from data_processing.nms import nms\n",
    "from data_processing import io\n",
    "from data_processing.BboxDetectionReport import BboxDetectionReport"
   ]
  },
  {
   "cell_type": "code",
   "execution_count": 9,
   "metadata": {},
   "outputs": [],
   "source": [
    "interpreter = Interpreter('configs/interpreter.yaml')"
   ]
  },
  {
   "cell_type": "code",
   "execution_count": null,
   "metadata": {},
   "outputs": [
    {
     "data": {
      "application/vnd.jupyter.widget-view+json": {
       "model_id": "bcafc68b0df84ee88d2bca5cbcb2f680",
       "version_major": 2,
       "version_minor": 0
      },
      "text/plain": [
       "HBox(children=(FloatProgress(value=0.0, max=400.0), HTML(value='')))"
      ]
     },
     "metadata": {},
     "output_type": "display_data"
    }
   ],
   "source": [
    "bs = 1\n",
    "for sample in tqdm.notebook.tqdm(raw_ds.map(processor).batch(bs)):\n",
    "    raw_pred = model(sample['img'])\n",
    "    bboxes_pred = interpreter(raw_pred,  sample[\"src_img_bbox\"].numpy(), sample[\"original_shape\"].numpy())\n",
    "    bboxes_pred = nms(bboxes_pred, 0.2)\n",
    "    io.serialize(sample['img_path'].numpy(), bboxes_pred, 'data/images', 'data/logs/val_report')"
   ]
  },
  {
   "cell_type": "code",
   "execution_count": 16,
   "metadata": {},
   "outputs": [
    {
     "data": {
      "text/plain": [
       "{'precision_at_.8recall.5IoU': 0,\n",
       " 'precision_at_.9recall.5IoU': 0,\n",
       " 'recall_at_.8precision.5IoU': 0,\n",
       " 'recall_at_.9precision.5IoU': 0}"
      ]
     },
     "execution_count": 16,
     "metadata": {},
     "output_type": "execute_result"
    }
   ],
   "source": [
    "report = BboxDetectionReport()\n",
    "report.from_serialized_report('data/images_markup', 'data/logs/val_report', class_idx = 0)\n",
    "report.run_standard_evaluation()"
   ]
  },
  {
   "cell_type": "code",
   "execution_count": 17,
   "metadata": {},
   "outputs": [
    {
     "data": {
      "text/plain": [
       "0"
      ]
     },
     "execution_count": 17,
     "metadata": {},
     "output_type": "execute_result"
    }
   ],
   "source": [
    "report.pfr(0.1)"
   ]
  },
  {
   "cell_type": "code",
   "execution_count": null,
   "metadata": {},
   "outputs": [],
   "source": []
  }
 ],
 "metadata": {
  "kernelspec": {
   "display_name": "Python 3",
   "language": "python",
   "name": "python3"
  },
  "language_info": {
   "codemirror_mode": {
    "name": "ipython",
    "version": 3
   },
   "file_extension": ".py",
   "mimetype": "text/x-python",
   "name": "python",
   "nbconvert_exporter": "python",
   "pygments_lexer": "ipython3",
   "version": "3.7.6"
  }
 },
 "nbformat": 4,
 "nbformat_minor": 4
}
